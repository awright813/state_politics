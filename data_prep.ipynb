{
 "cells": [
  {
   "cell_type": "code",
   "execution_count": null,
   "metadata": {},
   "outputs": [],
   "source": [
    "import pandas as pd\n",
    "from matplotlib import pyplot as plt\n",
    "import numpy as np\n",
    "import seaborn as sns\n",
    "\n",
    "import warnings\n",
    "warnings.filterwarnings(\"ignore\")\n",
    "\n",
    "from statsmodels.stats.power import TTestIndPower\n",
    "import scipy.stats as ss"
   ]
  },
  {
   "cell_type": "code",
   "execution_count": null,
   "metadata": {},
   "outputs": [],
   "source": [
    "state_GDP = pd.read_csv('../state_politics/data/raw/GDP_by_State.csv')"
   ]
  },
  {
   "cell_type": "code",
   "execution_count": null,
   "metadata": {},
   "outputs": [],
   "source": [
    "columns = state_GDP.columns.values.tolist()\n",
    "\n",
    "new_column_names = []\n",
    "for column in columns:\n",
    "    if column == 'observation_date':\n",
    "        new_column_names.append(column)\n",
    "    else:\n",
    "        column = column[0:2]\n",
    "        new_column_names.append(column)\n",
    "\n",
    "state_GDP.columns = new_column_names\n",
    "\n",
    "state_GDP['observation_date'] = state_GDP.apply(lambda row: row['observation_date'][0:4], axis=1)"
   ]
  },
  {
   "cell_type": "code",
   "execution_count": null,
   "metadata": {},
   "outputs": [],
   "source": [
    "USA_GDP = pd.read_csv('../state_politics/data/raw/API_NY.GDP.MKTP.KD.ZG_DS2_en_csv_v2_4770541.csv')\n",
    "USA_GDP = USA_GDP[USA_GDP['Country Name'] == 'United States']\n",
    "\n",
    "USA_GDP = USA_GDP[['1997','1998','1999','2000','2001','2002','2003','2004','2005','2006','2007','2008','2009','2010','2011','2012','2013','2014','2015','2016','2017','2018','2019','2020','2021']]\n",
    "USA_GDP = USA_GDP.transpose().reset_index()\n",
    "USA_GDP.columns.values[0] = 'observation_date'\n",
    "USA_GDP.columns.values[-1] = 'USA_GDP'\n",
    "\n",
    "USA_GDP['observation_date'] = USA_GDP.apply(lambda row: int(row['observation_date']), axis=1)"
   ]
  },
  {
   "cell_type": "code",
   "execution_count": null,
   "metadata": {},
   "outputs": [],
   "source": [
    "state_control = pd.read_csv('../state_politics/data/raw/state_control.csv')\n",
    "state_control['Year of last status change'] = state_control.apply(lambda row: int(row['Year of last status change']), axis=1)"
   ]
  }
 ],
 "metadata": {
  "language_info": {
   "name": "python"
  },
  "orig_nbformat": 4
 },
 "nbformat": 4,
 "nbformat_minor": 2
}
