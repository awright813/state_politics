{
 "cells": [
  {
   "cell_type": "code",
   "execution_count": 3,
   "metadata": {},
   "outputs": [],
   "source": [
    "import pandas as pd\n",
    "import numpy as np\n",
    "import scipy.stats as ss"
   ]
  },
  {
   "cell_type": "code",
   "execution_count": 4,
   "metadata": {},
   "outputs": [],
   "source": [
    "def compare_economic_growth(state_GDP, USA_GDP, state_control):\n",
    "    \n",
    "    '''\n",
    "    Parameters\n",
    "    ----------\n",
    "    state_GDP : pd.DataFrame()\n",
    "        Annual GDP growth for each state in the US\n",
    "    USA_GDP : pd.DataFrame()\n",
    "        United States annual GDP growth\n",
    "    state_control : pd.DataFrame()\n",
    "        Trifecta status for each US state and year of last status change\n",
    "    \n",
    "    Outputs\n",
    "    -------\n",
    "    republican_states : pd.DataFrame()\n",
    "        Republican states with a statistically significant difference in GDP growth, relative to US GDP growth, after becoming a trifecta government\n",
    "        Including p value and difference in state GPD growth\n",
    "    '''\n",
    "\n",
    "    republican_states = pd.DataFrame()\n",
    "    democratic_states = pd.DataFrame()\n",
    "\n",
    "    for index, row in state_control.iterrows():\n",
    "\n",
    "        try:\n",
    "\n",
    "            state_data = state_GDP[['observation_date', row['Abbreviation']]]\n",
    "            state_data.columns.values[1] = 'GDP'\n",
    "\n",
    "            state_data['observation_date'] = state_data.apply(lambda row: int(row['observation_date']), axis=1)\n",
    "\n",
    "            state_data = state_data.merge(USA_GDP, on='observation_date',how='left')\n",
    "\n",
    "            state_data['relative_to_USA_GDP'] = state_data.apply(lambda row: row['GDP'] - row['USA_GDP'], axis=1)\n",
    "\n",
    "            switch_year = row['Year of last status change']\n",
    "\n",
    "            state_data_before = state_data[state_data['observation_date'] <= switch_year]['relative_to_USA_GDP']\n",
    "            state_data_after = state_data[state_data['observation_date'] > switch_year]['relative_to_USA_GDP']\n",
    "            \n",
    "            state_data_before = state_data_before.dropna()\n",
    "            state_data_after = state_data_after.dropna()\n",
    "\n",
    "            tstat, p_val = ss.ttest_ind(state_data_before, state_data_after, equal_var=False)\n",
    "\n",
    "            if p_val <= 0.05:\n",
    "\n",
    "                new_df = pd.DataFrame(data = {'state':row['Abbreviation'],'p_val':[p_val], 'difference':[state_data_after.mean() - state_data_before.mean()],'years_of_data': 2022-switch_year})\n",
    "\n",
    "                if 'Republican trifecta' in row['Trifecta status']:\n",
    "                    republican_states = pd.concat([republican_states, new_df])\n",
    "                elif 'Democratic trifecta' in row['Trifecta status']:\n",
    "                    democratic_states = pd.concat([democratic_states, new_df])\n",
    "\n",
    "            else:\n",
    "                continue\n",
    "\n",
    "        except Exception as e:\n",
    "            pass\n",
    "\n",
    "    return republican_states, democratic_states"
   ]
  }
 ],
 "metadata": {
  "kernelspec": {
   "display_name": "Python 3.10.6 ('amw')",
   "language": "python",
   "name": "python3"
  },
  "language_info": {
   "codemirror_mode": {
    "name": "ipython",
    "version": 3
   },
   "file_extension": ".py",
   "mimetype": "text/x-python",
   "name": "python",
   "nbconvert_exporter": "python",
   "pygments_lexer": "ipython3",
   "version": "3.10.6"
  },
  "orig_nbformat": 4,
  "vscode": {
   "interpreter": {
    "hash": "30e1fef5a9bcaa719801e9f47ee8886472c09994ad58860259f26f8b1ebb218b"
   }
  }
 },
 "nbformat": 4,
 "nbformat_minor": 2
}
